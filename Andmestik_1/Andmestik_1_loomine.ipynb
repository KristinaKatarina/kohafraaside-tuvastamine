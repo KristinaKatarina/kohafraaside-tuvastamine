{
 "cells": [
  {
   "cell_type": "code",
   "execution_count": 1,
   "id": "e6863675-c4bb-44a3-b522-cba0b5317699",
   "metadata": {},
   "outputs": [],
   "source": [
    "import pandas as pd\n",
    "import random\n",
    "# loeme andmed sisse\n",
    "kertuSoned = pd.read_csv('kohasonad_naited.csv')\n",
    "koikSoned = pd.read_csv('kohasonad_test.csv')\n",
    "\n",
    "# kirjutame Unnamed: 0 veeru nime üle\n",
    "koikSoned = koikSoned.rename(columns={'Unnamed: 0': 'lemma'})\n",
    "\n",
    "# eemaldame kõikidest kohasõnedest Kertu kohasõned\n",
    "filtreeritudFraasid = koikSoned[~koikSoned['lemma'].isin(kertuSoned['lemma'])]"
   ]
  },
  {
   "cell_type": "code",
   "execution_count": 2,
   "id": "f44f1608-1f61-45c9-85f1-04fe357320fb",
   "metadata": {},
   "outputs": [
    {
     "name": "stdout",
     "output_type": "stream",
     "text": [
      "alguses sõnesid: 23192\n",
      "peale filtreerimist sõnesid: 22192\n"
     ]
    }
   ],
   "source": [
    "# kontroll, et 1000 sõne on andmetest eemaldatud\n",
    "print(\"alguses sõnesid: \" + str(len(koikSoned)))\n",
    "print(\"peale filtreerimist sõnesid: \" + str(len(filtreeritudFraasid)))"
   ]
  },
  {
   "cell_type": "code",
   "execution_count": 3,
   "id": "5cdbd6fa-69f6-4c00-858d-4ec89cd5ab92",
   "metadata": {},
   "outputs": [],
   "source": [
    "sonad = filtreeritudFraasid['lemma'].tolist() # jätame andmetest alles ainult sõne enda\n",
    "random.seed(17) \n",
    "sonad_1000 = random.sample(sonad, 1000) #saame 1000 random sõne"
   ]
  },
  {
   "cell_type": "code",
   "execution_count": 4,
   "id": "efa89112-799e-4b72-814a-7db4ddbfc03a",
   "metadata": {},
   "outputs": [],
   "source": [
    "#salvestame saadud sõned \n",
    "df = pd.DataFrame(sonad_1000, columns =['lemma'])\n",
    "df.to_csv('sonad_1000.csv')"
   ]
  },
  {
   "cell_type": "code",
   "execution_count": 5,
   "id": "853d0346-b1ef-4b12-9aea-c52a61283115",
   "metadata": {},
   "outputs": [
    {
     "data": {
      "text/html": [
       "<div>\n",
       "<style scoped>\n",
       "    .dataframe tbody tr th:only-of-type {\n",
       "        vertical-align: middle;\n",
       "    }\n",
       "\n",
       "    .dataframe tbody tr th {\n",
       "        vertical-align: top;\n",
       "    }\n",
       "\n",
       "    .dataframe thead th {\n",
       "        text-align: right;\n",
       "    }\n",
       "</style>\n",
       "<table border=\"1\" class=\"dataframe\">\n",
       "  <thead>\n",
       "    <tr style=\"text-align: right;\">\n",
       "      <th></th>\n",
       "      <th>lemma</th>\n",
       "    </tr>\n",
       "  </thead>\n",
       "  <tbody>\n",
       "    <tr>\n",
       "      <th>0</th>\n",
       "      <td>Nõugaste</td>\n",
       "    </tr>\n",
       "    <tr>\n",
       "      <th>1</th>\n",
       "      <td>turbaauk</td>\n",
       "    </tr>\n",
       "    <tr>\n",
       "      <th>2</th>\n",
       "      <td>lillepaviljon</td>\n",
       "    </tr>\n",
       "    <tr>\n",
       "      <th>3</th>\n",
       "      <td>transpordikomisjon</td>\n",
       "    </tr>\n",
       "    <tr>\n",
       "      <th>4</th>\n",
       "      <td>turismihooaeg</td>\n",
       "    </tr>\n",
       "  </tbody>\n",
       "</table>\n",
       "</div>"
      ],
      "text/plain": [
       "                lemma\n",
       "0            Nõugaste\n",
       "1            turbaauk\n",
       "2       lillepaviljon\n",
       "3  transpordikomisjon\n",
       "4       turismihooaeg"
      ]
     },
     "execution_count": 5,
     "metadata": {},
     "output_type": "execute_result"
    }
   ],
   "source": [
    "df.head()"
   ]
  },
  {
   "cell_type": "code",
   "execution_count": null,
   "id": "58834452-c839-4cf1-8ec6-76385eb3ae53",
   "metadata": {},
   "outputs": [],
   "source": []
  }
 ],
 "metadata": {
  "kernelspec": {
   "display_name": "Python 3 (ipykernel)",
   "language": "python",
   "name": "python3"
  },
  "language_info": {
   "codemirror_mode": {
    "name": "ipython",
    "version": 3
   },
   "file_extension": ".py",
   "mimetype": "text/x-python",
   "name": "python",
   "nbconvert_exporter": "python",
   "pygments_lexer": "ipython3",
   "version": "3.10.13"
  }
 },
 "nbformat": 4,
 "nbformat_minor": 5
}
