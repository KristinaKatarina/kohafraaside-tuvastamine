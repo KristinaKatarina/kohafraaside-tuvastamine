{
 "cells": [
  {
   "cell_type": "code",
   "execution_count": 1,
   "id": "9d62db23-d439-4ec4-a387-17c13db58e8e",
   "metadata": {},
   "outputs": [],
   "source": [
    "import os\n",
    "import pandas as pd"
   ]
  },
  {
   "cell_type": "code",
   "execution_count": 2,
   "id": "3eb08f8f-eac2-4116-93b7-e62006e60920",
   "metadata": {},
   "outputs": [],
   "source": [
    "def calculate_accuracy(csv_file):\n",
    "    df = pd.read_csv(csv_file)\n",
    "    matches = 0\n",
    "    for index, row in df.iterrows():\n",
    "        if row.iloc[1] == row.iloc[2]: # võrdleme iga rea 'ChatGPT' ja 'Kristina' veergu\n",
    "            matches +=1 # loeme kokku read, kus ChatGPt ennustas õigesti\n",
    "            \n",
    "    accuracy = (matches / len(df)) * 100  # arvutame täpsuse\n",
    "    return accuracy"
   ]
  },
  {
   "cell_type": "code",
   "execution_count": 3,
   "id": "232ff7aa-cf84-49da-ae45-acc767596739",
   "metadata": {},
   "outputs": [
    {
     "name": "stdout",
     "output_type": "stream",
     "text": [
      "ajaperioodid.csv - accuracy: 100.0\n",
      "\n",
      "asutused.csv - accuracy: 100.0\n",
      "\n",
      "esemed.csv - accuracy: 100.0\n",
      "\n",
      "geograafilised_lokatsioonid.csv - accuracy: 100.0\n",
      "\n",
      "joogid_toidud.csv - accuracy: 100.0\n",
      "\n",
      "nimed.csv - accuracy: 100.0\n",
      "\n",
      "on_sõna.csv - accuracy: 80.0\n",
      "\n",
      "organisatsioonid_üritused_firmad.csv - accuracy: 90.0\n",
      "\n",
      "piirkonnad.csv - accuracy: 100.0\n",
      "\n",
      "riided.csv - accuracy: 100.0\n",
      "\n",
      "saab_peal_seista.csv - accuracy: 90.0\n",
      "\n",
      "saab_sisse_minna.csv - accuracy: 100.0\n",
      "\n",
      "suunad.csv - accuracy: 100.0\n",
      "\n",
      "taimed.csv - accuracy: 100.0\n",
      "\n"
     ]
    }
   ],
   "source": [
    "# leiame kõikide *.csv failide täpsuse\n",
    "for file in os.listdir(\".\"): \n",
    "    if file.endswith(\".csv\"):\n",
    "        accuracy = calculate_accuracy(file)\n",
    "        if accuracy is not None:\n",
    "            print(file + \" - accuracy: \" + str(accuracy))\n",
    "            print()\n"
   ]
  },
  {
   "cell_type": "code",
   "execution_count": null,
   "id": "4df53098-e5be-4311-9853-60f079ee4529",
   "metadata": {},
   "outputs": [],
   "source": []
  }
 ],
 "metadata": {
  "kernelspec": {
   "display_name": "Python 3 (ipykernel)",
   "language": "python",
   "name": "python3"
  },
  "language_info": {
   "codemirror_mode": {
    "name": "ipython",
    "version": 3
   },
   "file_extension": ".py",
   "mimetype": "text/x-python",
   "name": "python",
   "nbconvert_exporter": "python",
   "pygments_lexer": "ipython3",
   "version": "3.10.13"
  }
 },
 "nbformat": 4,
 "nbformat_minor": 5
}
