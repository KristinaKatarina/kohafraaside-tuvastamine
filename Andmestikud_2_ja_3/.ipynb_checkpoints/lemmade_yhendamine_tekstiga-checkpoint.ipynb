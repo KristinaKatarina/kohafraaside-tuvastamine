{
 "cells": [
  {
   "cell_type": "code",
   "execution_count": 1,
   "id": "78bbe8dd-820c-41aa-9235-1827179b4e9c",
   "metadata": {},
   "outputs": [],
   "source": [
    "import sqlite3\n",
    "import pandas as pd\n",
    "andmebaasi_nimi = \"v33_koondkorpus_sentences_verb_pattern_obl_20241002-130310.db\"\n",
    "tabel = \"kohakaanded\" # tabel, kus on ainult kohakäänded alles jäetud (feats_filtreerimine.ipynb tulemus)"
   ]
  },
  {
   "cell_type": "code",
   "execution_count": null,
   "id": "f00cce40-8803-453b-b74d-038d1c5cd20a",
   "metadata": {},
   "outputs": [],
   "source": [
    "examples_given = 5 # mitu rida iga lemma kohta välja valitakse\n",
    "count_min = 5 # minimaalne lemma esinemiste kord, et seda välja valitaks\n",
    "conn = sqlite3.connect(andmebaasi_nimi)\n",
    "query = f\"\"\"\n",
    "WITH RankedRows AS (\n",
    "    -- Järjestame samad lemmad kasutades random'it ning määrame example_num väärtuse\n",
    "    SELECT \n",
    "        *, \n",
    "        ROW_NUMBER() OVER (PARTITION BY lemma ORDER BY RANDOM()) AS example_num,\n",
    "        COUNT(*) OVER (PARTITION BY lemma) AS total_count -- Mitu korda antud lemma esineb\n",
    "    FROM {tabel}\n",
    "),\n",
    "ValidLemmas AS (\n",
    "    -- Jätame alles ainult lemmad, mis esinevad vähemalt count_min korda\n",
    "    SELECT lemma\n",
    "    FROM RankedRows\n",
    "    GROUP BY lemma\n",
    "    HAVING COUNT(*) >= {count_min}\n",
    "),\n",
    "RandomLemmas AS (\n",
    "    -- Valime juhuslikult lemmad\n",
    "    SELECT lemma\n",
    "    FROM ValidLemmas\n",
    "    ORDER BY RANDOM()\n",
    "    -- LIMIT 1000 (siin saab määrata mitu erinevat lemmat valitakse)\n",
    ")\n",
    "SELECT RankedRows.*\n",
    "FROM RankedRows\n",
    "JOIN RandomLemmas USING (lemma)\n",
    "WHERE example_num <= {examples_given}\n",
    "ORDER BY total_count, lemma, example_num;\n",
    "\"\"\"\n",
    "\n",
    "\n",
    "df = pd.read_sql_query(query, conn)\n",
    "conn.close()\n",
    "df # dataframe, kus on iga valitud lemma kohta examples_given näidet "
   ]
  },
  {
   "cell_type": "code",
   "execution_count": null,
   "id": "8151a18a-efc5-4c6e-ab8a-9d1cb8118b11",
   "metadata": {},
   "outputs": [],
   "source": [
    "conn = sqlite3.connect(andmebaasi_nimi)\n",
    "\n",
    "db_df = pd.read_sql(\"SELECT id, sentence_id FROM transaction_head\", conn) # saame sentance_id\n",
    "\n",
    "conn.close()\n",
    "\n",
    "# lisame sentence_id oma dataframe'ile\n",
    "df = df.merge(db_df, left_on=\"head_id\", right_on=\"id\", how=\"left\")\n",
    "\n",
    "# eemaldame üleliigse id veeru\n",
    "df.drop(columns=[\"id_y\"], inplace=True)\n",
    "\n",
    "df.head(50)"
   ]
  },
  {
   "cell_type": "code",
   "execution_count": null,
   "id": "4303c690-d3eb-4a6d-83a0-c87ad2deb9c5",
   "metadata": {},
   "outputs": [],
   "source": [
    "# kasutame lausete andmebaasi\n",
    "conn = sqlite3.connect(\"v33_koondkorpus_sentences_sentences_20250220-130121.db\")\n",
    "\n",
    "db_df = pd.read_sql(\"SELECT id, text FROM sentences\", conn) # saame laused (text)\n",
    "conn.close()\n",
    "# lisame sentence_id põhjal dataframe'i ridadele vastava lause\n",
    "df = df.merge(db_df, left_on=\"sentence_id\", right_on=\"id\", how=\"left\")\n",
    "# eemaldame üleliigse id veeru\n",
    "df.drop(columns=[\"id\"], inplace=True)\n",
    "# muudame veerude järjekorda\n",
    "uus_järjekord = [\"lemma\", \"sentence_id\", \"head_id\", \"example_num\",\"total_count\",\"feats\",\"case\", \"number\", \"proper\",\"deprel\",\"form\", \"loc\", \"loc_rel\", \"parent_loc\", \"pos\",\"id_x\", \"text\"]\n",
    "df = df[uus_järjekord]\n",
    "df"
   ]
  },
  {
   "cell_type": "code",
   "execution_count": null,
   "id": "d743af00-8a23-4633-b75a-a91fac08df26",
   "metadata": {},
   "outputs": [],
   "source": [
    "# salvestame saadud dataframe'i andmebaasi\n",
    "conn = sqlite3.connect(\"BT_andmed.db\") \n",
    "\n",
    "df.to_sql(\"table\", conn, if_exists=\"replace\", index=False)\n",
    "conn.close()"
   ]
  },
  {
   "cell_type": "markdown",
   "id": "6c941877-8dd5-49fd-8e8c-ac2fd2e3940f",
   "metadata": {},
   "source": [
    "# Lisa - vali saadud andmetest esimesed 5000 rida"
   ]
  },
  {
   "cell_type": "code",
   "execution_count": null,
   "id": "6ad35111-5917-4a0c-9659-2c4b70a41461",
   "metadata": {},
   "outputs": [],
   "source": [
    "# valime välja esimesed 5000\n",
    "'''\n",
    "conn = sqlite3.connect(\"BT_andmed.db\")\n",
    "\n",
    "db_df = pd.read_sql('SELECT * FROM \"table\" LIMIT 5000;', conn)\n",
    "conn.close()\n",
    "db_df\n",
    "'''"
   ]
  },
  {
   "cell_type": "code",
   "execution_count": null,
   "id": "1c76542d-3c97-4985-ad59-a666d34f327c",
   "metadata": {},
   "outputs": [],
   "source": [
    "# salvestame saadud read andmebaasi faili\n",
    "'''\n",
    "conn = sqlite3.connect(\"BT_andmed_5000.db\") \n",
    "\n",
    "df.to_sql(\"table\", conn, if_exists=\"replace\", index=False)\n",
    "conn.close()\n",
    "'''"
   ]
  },
  {
   "cell_type": "code",
   "execution_count": null,
   "id": "9ab148fe-e7a5-4c84-af1c-5b14252773cc",
   "metadata": {},
   "outputs": [],
   "source": [
    "#TODO leida enda 500 sõna laused\n",
    "# juhuslik 100sõna * 5 näidet"
   ]
  }
 ],
 "metadata": {
  "kernelspec": {
   "display_name": "Python 3 (ipykernel)",
   "language": "python",
   "name": "python3"
  },
  "language_info": {
   "codemirror_mode": {
    "name": "ipython",
    "version": 3
   },
   "file_extension": ".py",
   "mimetype": "text/x-python",
   "name": "python",
   "nbconvert_exporter": "python",
   "pygments_lexer": "ipython3",
   "version": "3.10.13"
  }
 },
 "nbformat": 4,
 "nbformat_minor": 5
}
