{
 "cells": [
  {
   "cell_type": "code",
   "execution_count": 1,
   "id": "e385c32f-391a-46e8-9f3f-b54da81c8fc7",
   "metadata": {},
   "outputs": [],
   "source": [
    "import pandas as pd\n",
    "from sklearn.ensemble import RandomForestClassifier\n",
    "from sklearn.model_selection import train_test_split\n",
    "from sklearn.metrics import precision_score, recall_score, f1_score, accuracy_score"
   ]
  },
  {
   "cell_type": "markdown",
   "id": "196b00bb-aff4-47fe-8366-e58fdc920d19",
   "metadata": {},
   "source": [
    "## Andmete vormistamine"
   ]
  },
  {
   "cell_type": "code",
   "execution_count": 2,
   "id": "8c33273f-4f1b-458c-af70-a56122e3319c",
   "metadata": {},
   "outputs": [],
   "source": [
    "# loeme sisse manuaalse märgendamise tulemused\n",
    "df_minu = pd.read_csv('minu_tulemused.csv')\n",
    "\n",
    "df_minu = df_minu.drop(columns=['Unnamed: 0'])\n",
    "# selleks, et manuaalse ja GPT märgenduse veerud kattuksid\n",
    "df_minu = df_minu.rename(columns={\n",
    "    \"ese\": \"belongings\",\n",
    "    \"riide_ese\": \"clothing_items\",\n",
    "    \"jook_toit\": \"edibles\",\n",
    "    \"sisse_minna\": \"enclosures_and_vehicles\",\n",
    "    \"geo_lok\": \"geographical_locations\",\n",
    "    \"asutus\": \"institutions\",\n",
    "    \"-\": \"nonsense_words\",\n",
    "    \"org_ür_fir\": \"organisations_and_events\",  \n",
    "    \"isikunimi\": \"persons\",\n",
    "    \"peal_seista\": \"platforms_and_floors\",\n",
    "    \"suund\": \"spatial_directions\",\n",
    "    \"piirkond\": \"spatial_region\",\n",
    "    \"ajaperiood\": \"time_expressions\",\n",
    "    \"taim\": \"vegetative_enclosure\"\n",
    "})\n",
    "df_minu['-'] = df_minu['nonsense_words']\n",
    "\n",
    "df_GPT35 = pd.read_csv('GPT3_5_tulemused.csv')\n",
    "df_GPT35['nonsense_words'] = df_GPT35['nonsense_words'].apply(lambda x: 1 if x == 0 else 0 if x == 1 else x)\n",
    "df_GPT4 = pd.read_csv('GPT4_0_tulemused.csv')\n",
    "df_GPT4['nonsense_words'] = df_GPT4['nonsense_words'].apply(lambda x: 1 if x == 0 else 0 if x == 1 else x)"
   ]
  },
  {
   "cell_type": "markdown",
   "id": "1f16e9d4-ea93-4813-b56d-658dd4894001",
   "metadata": {},
   "source": [
    "## Reeglipõhine märgendamine"
   ]
  },
  {
   "cell_type": "code",
   "execution_count": 3,
   "id": "6ccd97b1-ed6c-4183-b902-8b62db0d5603",
   "metadata": {},
   "outputs": [],
   "source": [
    "# reeglistik, mis ennustab, kas sõna on koht või mitte alamklasside põhjal\n",
    "def kohaMääramine(df_gpt):\n",
    "    df_gpt['0'] = 0\n",
    "    df_gpt['1'] = 0\n",
    "    df_gpt['?'] = 0\n",
    "    df_gpt['-'] = 0\n",
    "\n",
    "    koha_veerud = [\n",
    "        \"belongings\", \"enclosures_and_vehicles\", \"geographical_locations\",\n",
    "        \"platforms_and_floors\", \"spatial_directions\", \"spatial_region\",\n",
    "        \"vegetative_enclosure\"\n",
    "    ]\n",
    "    mitte_koha_veerud = [\n",
    "        \"clothing_items\", \"edibles\", \"persons\",\n",
    "        \"time_expressions\", \"organisations_and_events\"\n",
    "    ]\n",
    "\n",
    "    for index, row in df_gpt.iterrows():\n",
    "        if row['nonsense_words'] == 1 and row['geographical_locations'] == 0 and row['persons'] == 0:\n",
    "            df_gpt.loc[index, '-'] = 1\n",
    "            continue\n",
    "        if row['institutions'] == 1 and not row['organisations_and_events']:\n",
    "            df_gpt.loc[index, '?'] = 1\n",
    "            continue\n",
    "        if row['clothing_items'] == 1:\n",
    "            df_gpt.loc[index, '0'] = 1\n",
    "            continue    \n",
    "        if row['geographical_locations'] == 1:\n",
    "            df_gpt.loc[index, '1'] = 1\n",
    "            continue \n",
    "            \n",
    "        onKoht = any(row[veerg] == 1 for veerg in koha_veerud)\n",
    "        eiOleKoht = any(row[veerg] == 1 for veerg in mitte_koha_veerud)\n",
    "\n",
    "        if not onKoht: # kui ei ole ühtegi 'koha veeergu' märgitud\n",
    "            df_gpt.loc[index, '0'] = 1\n",
    "        elif not eiOleKoht: # # kui ei ole ühtegi 'mitte koha veeergu' märgitud\n",
    "            df_gpt.loc[index, '1'] = 1\n",
    "        # kui on segu koha ja mitte koha veergudest märgitud    \n",
    "        else:\n",
    "            df_gpt.loc[index, '0'] = 1\n"
   ]
  },
  {
   "cell_type": "code",
   "execution_count": 4,
   "id": "88d46696-2d3b-4f5b-abc2-db4d4fb13c00",
   "metadata": {},
   "outputs": [],
   "source": [
    "#funktsioon, mis võrdleb ennustust manuaalse märgendusega\n",
    "def kontrolliKoht(df_gpt, df_minu):\n",
    "    y_true = []\n",
    "    y_pred = []\n",
    "\n",
    "    for _, row in df_minu.iterrows():\n",
    "        kontrollitav_lemma = row[\"lemma\"]\n",
    "        koha_veerud = ['0', '1', '-', '?']\n",
    "        õige_veerg = row[koha_veerud].idxmax()\n",
    "\n",
    "        y_true.append(õige_veerg)\n",
    "\n",
    "        leitud_rida = df_gpt[df_gpt['lemma'] == kontrollitav_lemma]\n",
    "        if not leitud_rida.empty:\n",
    "            ennustatud_veerg = leitud_rida[koha_veerud].iloc[0].idxmax()\n",
    "        else:\n",
    "            ennustatud_veerg = None\n",
    "\n",
    "        y_pred.append(ennustatud_veerg)\n",
    "\n",
    "    return y_true, y_pred"
   ]
  },
  {
   "cell_type": "code",
   "execution_count": 5,
   "id": "87182609-cd61-4293-ad69-2ab8edd1c37c",
   "metadata": {},
   "outputs": [],
   "source": [
    "# määrame GPT tulemuste põhjal kas sõnad on kohad või mitte\n",
    "kohaMääramine(df_GPT35)\n",
    "kohaMääramine(df_GPT4)\n"
   ]
  },
  {
   "cell_type": "code",
   "execution_count": 6,
   "id": "8db1cab1-5ca2-4055-a513-858c12061b76",
   "metadata": {},
   "outputs": [
    {
     "name": "stdout",
     "output_type": "stream",
     "text": [
      "\n",
      "Model: GPT-3.5\n",
      "Õigsus 0.577962577962578\n",
      "Täpsus: 0.4365862322306088\n",
      "Saagis: 0.4567116377822499\n",
      "F1-skoor: 0.4414283961957885\n",
      "\n",
      "Model: GPT-4\n",
      "Õigsus 0.6403326403326404\n",
      "Täpsus: 0.47671408624378925\n",
      "Saagis: 0.49365894244609004\n",
      "F1-skoor: 0.4745275549263279\n"
     ]
    }
   ],
   "source": [
    "# Õigsuse, täpsuse, saagise ja f1-skoori arvutamine\n",
    "y_true, y_pred_35 = kontrolliKoht(df_GPT35, df_minu)\n",
    "_, y_pred_4 = kontrolliKoht(df_GPT4, df_minu)\n",
    "\n",
    "def print_metrics(name, y_true, y_pred):\n",
    "    y_true_filtered = [t for t, p in zip(y_true, y_pred) if p is not None]\n",
    "    y_pred_filtered = [p for p in y_pred if p is not None]\n",
    "\n",
    "    print(f\"\\nModel: {name}\")\n",
    "    print(\"Õigsus\", accuracy_score(y_true_filtered, y_pred_filtered))\n",
    "    print(\"Täpsus:\", precision_score(y_true_filtered, y_pred_filtered, average='macro'))\n",
    "    print(\"Saagis:\", recall_score(y_true_filtered, y_pred_filtered, average='macro'))\n",
    "    print(\"F1-skoor:\", f1_score(y_true_filtered, y_pred_filtered, average='macro'))\n",
    "\n",
    "print_metrics(\"GPT-3.5\", y_true, y_pred_35)\n",
    "print_metrics(\"GPT-4\", y_true, y_pred_4)"
   ]
  },
  {
   "cell_type": "markdown",
   "id": "1edd3b85-26b3-4b32-8cae-857b342ed3de",
   "metadata": {},
   "source": [
    "## RandomForestClassifier"
   ]
  },
  {
   "cell_type": "code",
   "execution_count": null,
   "id": "2a6f20d2-bd7a-4a51-b24b-333bc895b257",
   "metadata": {},
   "outputs": [],
   "source": []
  },
  {
   "cell_type": "code",
   "execution_count": 7,
   "id": "11368a3c-a8da-4b69-9ac5-f89c40597b6e",
   "metadata": {},
   "outputs": [],
   "source": [
    "label_cols = ['0', '1', '-', '?']\n",
    "feature_cols = [col for col in df_minu.columns if col not in ['lemma'] + label_cols]"
   ]
  },
  {
   "cell_type": "code",
   "execution_count": 8,
   "id": "e3b09bbd-998d-4893-8be5-173ee43a628e",
   "metadata": {},
   "outputs": [],
   "source": [
    "def lisaKoht(df_gpt, df_minu):\n",
    "    koha_veerud = ['0', '1', '?', '-']\n",
    "\n",
    "    for veerg in koha_veerud:\n",
    "        df_gpt[veerg] = 0\n",
    "\n",
    "    for i, row in df_gpt.iterrows():\n",
    "        lemma = row['lemma']\n",
    "        minu_rida = df_minu[df_minu['lemma'] == lemma]\n",
    "\n",
    "        if not minu_rida.empty:\n",
    "            for veerg in koha_veerud:\n",
    "                df_gpt.at[i, veerg] = minu_rida.iloc[0][veerg]\n"
   ]
  },
  {
   "cell_type": "code",
   "execution_count": 9,
   "id": "c0e4b565-6758-4de8-bfd3-81667b55aa03",
   "metadata": {},
   "outputs": [],
   "source": [
    "# GPT 35\n",
    "df_GPT35 = pd.read_csv('GPT3_5_tulemused.csv')\n",
    "df_GPT35['nonsense_words'] = df_GPT35['nonsense_words'].apply(lambda x: 1 if x == 0 else 0 if x == 1 else x)\n",
    "df_GPT35 = df_GPT35.dropna()\n",
    "lisaKoht(df_GPT35, df_minu)"
   ]
  },
  {
   "cell_type": "code",
   "execution_count": 10,
   "id": "442a9e60-332b-4a9c-82c2-7d99f2f5a7ee",
   "metadata": {},
   "outputs": [],
   "source": [
    "# GPT 4\n",
    "df_GPT4 = pd.read_csv('GPT4_0_tulemused.csv')\n",
    "df_GPT4['nonsense_words'] = df_GPT4['nonsense_words'].apply(lambda x: 1 if x == 0 else 0 if x == 1 else x)\n",
    "df_GPT4 = df_GPT4.dropna()\n",
    "lisaKoht(df_GPT4, df_minu)\n"
   ]
  },
  {
   "cell_type": "code",
   "execution_count": 11,
   "id": "ac15ed2f-c32b-4bc1-9ee4-3b2a4f70e3f7",
   "metadata": {},
   "outputs": [
    {
     "data": {
      "text/html": [
       "<style>#sk-container-id-1 {color: black;}#sk-container-id-1 pre{padding: 0;}#sk-container-id-1 div.sk-toggleable {background-color: white;}#sk-container-id-1 label.sk-toggleable__label {cursor: pointer;display: block;width: 100%;margin-bottom: 0;padding: 0.3em;box-sizing: border-box;text-align: center;}#sk-container-id-1 label.sk-toggleable__label-arrow:before {content: \"▸\";float: left;margin-right: 0.25em;color: #696969;}#sk-container-id-1 label.sk-toggleable__label-arrow:hover:before {color: black;}#sk-container-id-1 div.sk-estimator:hover label.sk-toggleable__label-arrow:before {color: black;}#sk-container-id-1 div.sk-toggleable__content {max-height: 0;max-width: 0;overflow: hidden;text-align: left;background-color: #f0f8ff;}#sk-container-id-1 div.sk-toggleable__content pre {margin: 0.2em;color: black;border-radius: 0.25em;background-color: #f0f8ff;}#sk-container-id-1 input.sk-toggleable__control:checked~div.sk-toggleable__content {max-height: 200px;max-width: 100%;overflow: auto;}#sk-container-id-1 input.sk-toggleable__control:checked~label.sk-toggleable__label-arrow:before {content: \"▾\";}#sk-container-id-1 div.sk-estimator input.sk-toggleable__control:checked~label.sk-toggleable__label {background-color: #d4ebff;}#sk-container-id-1 div.sk-label input.sk-toggleable__control:checked~label.sk-toggleable__label {background-color: #d4ebff;}#sk-container-id-1 input.sk-hidden--visually {border: 0;clip: rect(1px 1px 1px 1px);clip: rect(1px, 1px, 1px, 1px);height: 1px;margin: -1px;overflow: hidden;padding: 0;position: absolute;width: 1px;}#sk-container-id-1 div.sk-estimator {font-family: monospace;background-color: #f0f8ff;border: 1px dotted black;border-radius: 0.25em;box-sizing: border-box;margin-bottom: 0.5em;}#sk-container-id-1 div.sk-estimator:hover {background-color: #d4ebff;}#sk-container-id-1 div.sk-parallel-item::after {content: \"\";width: 100%;border-bottom: 1px solid gray;flex-grow: 1;}#sk-container-id-1 div.sk-label:hover label.sk-toggleable__label {background-color: #d4ebff;}#sk-container-id-1 div.sk-serial::before {content: \"\";position: absolute;border-left: 1px solid gray;box-sizing: border-box;top: 0;bottom: 0;left: 50%;z-index: 0;}#sk-container-id-1 div.sk-serial {display: flex;flex-direction: column;align-items: center;background-color: white;padding-right: 0.2em;padding-left: 0.2em;position: relative;}#sk-container-id-1 div.sk-item {position: relative;z-index: 1;}#sk-container-id-1 div.sk-parallel {display: flex;align-items: stretch;justify-content: center;background-color: white;position: relative;}#sk-container-id-1 div.sk-item::before, #sk-container-id-1 div.sk-parallel-item::before {content: \"\";position: absolute;border-left: 1px solid gray;box-sizing: border-box;top: 0;bottom: 0;left: 50%;z-index: -1;}#sk-container-id-1 div.sk-parallel-item {display: flex;flex-direction: column;z-index: 1;position: relative;background-color: white;}#sk-container-id-1 div.sk-parallel-item:first-child::after {align-self: flex-end;width: 50%;}#sk-container-id-1 div.sk-parallel-item:last-child::after {align-self: flex-start;width: 50%;}#sk-container-id-1 div.sk-parallel-item:only-child::after {width: 0;}#sk-container-id-1 div.sk-dashed-wrapped {border: 1px dashed gray;margin: 0 0.4em 0.5em 0.4em;box-sizing: border-box;padding-bottom: 0.4em;background-color: white;}#sk-container-id-1 div.sk-label label {font-family: monospace;font-weight: bold;display: inline-block;line-height: 1.2em;}#sk-container-id-1 div.sk-label-container {text-align: center;}#sk-container-id-1 div.sk-container {/* jupyter's `normalize.less` sets `[hidden] { display: none; }` but bootstrap.min.css set `[hidden] { display: none !important; }` so we also need the `!important` here to be able to override the default hidden behavior on the sphinx rendered scikit-learn.org. See: https://github.com/scikit-learn/scikit-learn/issues/21755 */display: inline-block !important;position: relative;}#sk-container-id-1 div.sk-text-repr-fallback {display: none;}</style><div id=\"sk-container-id-1\" class=\"sk-top-container\"><div class=\"sk-text-repr-fallback\"><pre>RandomForestClassifier()</pre><b>In a Jupyter environment, please rerun this cell to show the HTML representation or trust the notebook. <br />On GitHub, the HTML representation is unable to render, please try loading this page with nbviewer.org.</b></div><div class=\"sk-container\" hidden><div class=\"sk-item\"><div class=\"sk-estimator sk-toggleable\"><input class=\"sk-toggleable__control sk-hidden--visually\" id=\"sk-estimator-id-1\" type=\"checkbox\" checked><label for=\"sk-estimator-id-1\" class=\"sk-toggleable__label sk-toggleable__label-arrow\">RandomForestClassifier</label><div class=\"sk-toggleable__content\"><pre>RandomForestClassifier()</pre></div></div></div></div></div>"
      ],
      "text/plain": [
       "RandomForestClassifier()"
      ]
     },
     "execution_count": 11,
     "metadata": {},
     "output_type": "execute_result"
    }
   ],
   "source": [
    "X_train = df_minu[feature_cols]\n",
    "y_train = df_minu[label_cols].idxmax(axis=1)  # märgendus on kõige kõrgema väärtusega lahter (1)\n",
    "\n",
    "clf = RandomForestClassifier() # mudeli loomine\n",
    "clf.fit(X_train, y_train) # mudeli treenimine\n"
   ]
  },
  {
   "cell_type": "code",
   "execution_count": 13,
   "id": "35cb8dca-1a0f-4825-bf9b-2485ba6f61ef",
   "metadata": {},
   "outputs": [
    {
     "name": "stdout",
     "output_type": "stream",
     "text": [
      "\n",
      "Model: GPT-3.5\n",
      "Õigsus: 0.578125\n",
      "Täpsus: 0.47626925756033234\n",
      "Saagis: 0.5192518429966129\n",
      "F1-skoor: 0.4427171555364794\n",
      "\n",
      "Model: GPT-4\n",
      "Õigsus: 0.6673640167364017\n",
      "Täpsus: 0.49023076211616723\n",
      "Saagis: 0.5388888888888889\n",
      "F1-skoor: 0.4920444433283495\n"
     ]
    }
   ],
   "source": [
    "# mudeli testimine\n",
    "def evaluate_on_test_set(df_test, name):\n",
    "    X_test = df_test[feature_cols]\n",
    "    y_true = df_test[label_cols].idxmax(axis=1)\n",
    "    y_pred = clf.predict(X_test)\n",
    "\n",
    "    print(f\"\\nModel: {name}\")\n",
    "    print(\"Õigsus:\", accuracy_score(y_true, y_pred))\n",
    "    print(\"Täpsus:\", precision_score(y_true, y_pred, average='macro'))\n",
    "    print(\"Saagis:\", recall_score(y_true, y_pred, average='macro'))\n",
    "    print(\"F1-skoor:\", f1_score(y_true, y_pred, average='macro'))\n",
    "\n",
    "evaluate_on_test_set(df_GPT35, \"GPT-3.5\")\n",
    "evaluate_on_test_set(df_GPT4, \"GPT-4\")"
   ]
  },
  {
   "cell_type": "code",
   "execution_count": null,
   "id": "5d3eb0e1-4fd9-42d6-b272-bfaff78f0edc",
   "metadata": {},
   "outputs": [],
   "source": []
  }
 ],
 "metadata": {
  "kernelspec": {
   "display_name": "Python 3 (ipykernel)",
   "language": "python",
   "name": "python3"
  },
  "language_info": {
   "codemirror_mode": {
    "name": "ipython",
    "version": 3
   },
   "file_extension": ".py",
   "mimetype": "text/x-python",
   "name": "python",
   "nbconvert_exporter": "python",
   "pygments_lexer": "ipython3",
   "version": "3.10.13"
  }
 },
 "nbformat": 4,
 "nbformat_minor": 5
}
